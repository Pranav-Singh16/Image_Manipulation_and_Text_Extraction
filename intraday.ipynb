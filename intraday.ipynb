{
  "nbformat": 4,
  "nbformat_minor": 0,
  "metadata": {
    "colab": {
      "provenance": [],
      "authorship_tag": "ABX9TyMSxG+o2wevEnNbBVUz+Lra",
      "include_colab_link": true
    },
    "kernelspec": {
      "name": "python3",
      "display_name": "Python 3"
    },
    "language_info": {
      "name": "python"
    }
  },
  "cells": [
    {
      "cell_type": "markdown",
      "metadata": {
        "id": "view-in-github",
        "colab_type": "text"
      },
      "source": [
        "<a href=\"https://colab.research.google.com/github/Pranav-Singh16/Image_Processing_and_text_Extraction_Toolkit/blob/main/intraday.ipynb\" target=\"_parent\"><img src=\"https://colab.research.google.com/assets/colab-badge.svg\" alt=\"Open In Colab\"/></a>"
      ]
    },
    {
      "cell_type": "code",
      "source": [
        "import requests\n",
        "import os\n",
        "import pandas as pd\n",
        "from google.colab import drive\n",
        "from datetime import datetime\n",
        "import pytz\n",
        "import time"
      ],
      "metadata": {
        "id": "hDZkRGcP3CY_"
      },
      "execution_count": null,
      "outputs": []
    },
    {
      "cell_type": "code",
      "execution_count": null,
      "metadata": {
        "id": "hxA0vwakDSVN"
      },
      "outputs": [],
      "source": [
        "class Nse:\n",
        "    def __init__(self, name, tv):\n",
        "        self.name = name.upper()\n",
        "        self.tv = tv\n",
        "        self.p = self.price()\n",
        "        self.bp, self.sp, self.bq, self.sq = self.sell_buy()\n",
        "        self.d = {\n",
        "            'price': self.p,\n",
        "            'bid_price': self.bp,\n",
        "            'bid_quantity': self.bq,\n",
        "            'sell_price': self.sp,\n",
        "            'sell_quantity': self.sq,\n",
        "            'total_volume': self.tv\n",
        "        }\n",
        "\n",
        "    def price(self):\n",
        "        headers = {\n",
        "            'referer': 'https://www.bseindia.com/',\n",
        "            'user-agent': 'Mozilla/5.0 (Windows NT 10.0; Win64; x64) AppleWebKit/537.36 (KHTML, like Gecko) Chrome/123.0.0.0 Safari/537.36',\n",
        "        }\n",
        "\n",
        "        params = {\n",
        "            'Debtflag': '',\n",
        "            'scripcode': '543257',\n",
        "            'seriesid': '',\n",
        "        }\n",
        "\n",
        "        response = requests.get('https://api.bseindia.com/BseIndiaAPI/api/getScripHeaderData/w', params=params, headers=headers)\n",
        "        return response.json()['CurrRate']['LTP']\n",
        "\n",
        "    def trading_quote(self):\n",
        "        headers = {\n",
        "            'referer': 'https://www.bseindia.com/',\n",
        "            'user-agent': 'Mozilla/5.0 (Windows NT 10.0; Win64; x64) AppleWebKit/537.36 (KHTML, like Gecko) Chrome/123.0.0.0 Safari/537.36',\n",
        "        }\n",
        "\n",
        "        params = {\n",
        "            'flag': '',\n",
        "            'quotetype': 'EQ',\n",
        "            'scripcode': '543257',\n",
        "        }\n",
        "\n",
        "        response = requests.get('https://api.bseindia.com/RealTimeBseIndiaAPI/api/MarketDepth/w', params=params, headers=headers)\n",
        "        return response.json()\n",
        "    def convert_to_float(self,value):\n",
        "      return float(value.replace(',', ''))\n",
        "\n",
        "    def sell_buy(self):\n",
        "        data = self.trading_quote()\n",
        "        bprice_sum = sum(float(data[f'BPrice{i}']) * self.convert_to_float(data[f'BQty{i}']) for i in range(1, 6))\n",
        "        sprice_sum = sum(float(data[f'SPrice{i}']) * self.convert_to_float(data[f'SQty{i}']) for i in range(1, 6))\n",
        "        return bprice_sum, sprice_sum, data['TotalBQty'], data['TotalSQty']\n",
        "\n",
        "    def get_data(self):\n",
        "        return self.d\n",
        "\n"
      ]
    },
    {
      "cell_type": "code",
      "source": [
        "def save_to_drive(data, filename):\n",
        "    # Convert data to DataFrame\n",
        "    df = pd.DataFrame([data])\n",
        "\n",
        "    # Check if Google Drive is mounted\n",
        "    if not hasattr(drive, 'drive'):\n",
        "        # Mount Google Drive\n",
        "        drive.mount('/content/drive')\n",
        "\n",
        "    # Define the full path of the file on Google Drive\n",
        "    file_path = f\"/content/drive/My Drive/{filename}\"\n",
        "\n",
        "    # Check if the file exists, if not, create it\n",
        "    if not os.path.exists(file_path):\n",
        "        df.to_csv(file_path, index=False)\n",
        "        print(f\"CSV file '{filename}' has been created at '{file_path}' on Google Drive.\")\n",
        "    else:\n",
        "        # Append data to the CSV file on Google Drive\n",
        "        df.to_csv(file_path, mode='a', index=False, header=False)\n",
        "        print(f\"Data has been saved to '{file_path}' on Google Drive.\")\n"
      ],
      "metadata": {
        "id": "vfYyjTQN2_TB"
      },
      "execution_count": null,
      "outputs": []
    },
    {
      "cell_type": "code",
      "source": [
        "# Example usage:\n",
        "while True:\n",
        "  nse_instance = Nse('TATASTEEL',13042495935)\n",
        "  data = nse_instance.get_data()\n",
        "  print(data)\n",
        "  date = current_date = datetime.now().date()\n",
        "  filename = 'nse_data'+str(date)+'.csv'\n",
        "  save_to_drive(data, filename)\n",
        "  india_timezone = pytz.timezone('Asia/Kolkata')\n",
        "  # Get th  e current time in India\n",
        "  current_time = datetime.now(india_timezone)\n",
        "  time.sleep(1)\n",
        "  target_time = india_timezone.localize(datetime.now().replace(hour=15, minute=20, second=20, microsecond=0))\n",
        "  if current_time >= target_time:\n",
        "    print(\"It's 3 PM. Exiting the loop.\")\n",
        "    break\n",
        "  os.system('clear')"
      ],
      "metadata": {
        "id": "3Vqg3PxjKQq5"
      },
      "execution_count": null,
      "outputs": []
    },
    {
      "cell_type": "code",
      "source": [
        "!git clone https://github.com/Pranav-Singh16/intraday.git\n",
        "\n",
        "%cd intraday"
      ],
      "metadata": {
        "id": "ErNiQtqh4Ch0",
        "colab": {
          "base_uri": "https://localhost:8080/"
        },
        "outputId": "03e8ab95-39fb-41b6-9747-c3e9ddc2f1df"
      },
      "execution_count": 6,
      "outputs": [
        {
          "output_type": "stream",
          "name": "stdout",
          "text": [
            "Cloning into 'intraday'...\n",
            "fatal: could not read Username for 'https://github.com': No such device or address\n",
            "[Errno 2] No such file or directory: 'intraday'\n",
            "/content\n"
          ]
        }
      ]
    },
    {
      "cell_type": "code",
      "source": [
        "%cd intraday"
      ],
      "metadata": {
        "colab": {
          "base_uri": "https://localhost:8080/"
        },
        "id": "MZmr0AzGR03g",
        "outputId": "21c7ce5e-e69e-4644-fa6e-4bbcf89b5789"
      },
      "execution_count": 5,
      "outputs": [
        {
          "output_type": "stream",
          "name": "stdout",
          "text": [
            "[Errno 2] No such file or directory: 'intraday'\n",
            "/content\n"
          ]
        }
      ]
    },
    {
      "cell_type": "code",
      "source": [],
      "metadata": {
        "id": "2wacteSsTkKw"
      },
      "execution_count": null,
      "outputs": []
    }
  ]
}